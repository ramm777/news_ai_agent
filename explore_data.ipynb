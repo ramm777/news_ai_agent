{
 "cells": [
  {
   "cell_type": "code",
   "execution_count": 36,
   "id": "b630ce49",
   "metadata": {},
   "outputs": [],
   "source": [
    "# ! pip install pandas numpy matplotlib seaborn wordcloud"
   ]
  },
  {
   "cell_type": "code",
   "execution_count": 37,
   "id": "99193043",
   "metadata": {},
   "outputs": [],
   "source": [
    "import json\n",
    "import pandas as pd\n",
    "import numpy as np\n",
    "import matplotlib.pyplot as plt\n",
    "from collections import Counter\n",
    "from datetime import datetime\n",
    "import seaborn as sns\n",
    "from wordcloud import WordCloud\n",
    "\n",
    "plt.style.use(\"seaborn-v0_8-whitegrid\")\n",
    "sns.set_palette(\"viridis\")\n",
    "\n",
    "pd.options.display.max_columns = None\n",
    "pd.options.display.max_rows = 5\n",
    "\n",
    "json_file = \"news-dataset.json\""
   ]
  },
  {
   "cell_type": "code",
   "execution_count": 38,
   "id": "6e961dad",
   "metadata": {},
   "outputs": [
    {
     "name": "stdout",
     "output_type": "stream",
     "text": [
      "Total articles: 100\n"
     ]
    },
    {
     "data": {
      "text/html": [
       "<div>\n",
       "<style scoped>\n",
       "    .dataframe tbody tr th:only-of-type {\n",
       "        vertical-align: middle;\n",
       "    }\n",
       "\n",
       "    .dataframe tbody tr th {\n",
       "        vertical-align: top;\n",
       "    }\n",
       "\n",
       "    .dataframe thead th {\n",
       "        text-align: right;\n",
       "    }\n",
       "</style>\n",
       "<table border=\"1\" class=\"dataframe\">\n",
       "  <thead>\n",
       "    <tr style=\"text-align: right;\">\n",
       "      <th></th>\n",
       "      <th>content_id</th>\n",
       "      <th>content_headline</th>\n",
       "      <th>content_type</th>\n",
       "      <th>content_publish_time</th>\n",
       "      <th>content_last_update</th>\n",
       "      <th>content_edits</th>\n",
       "      <th>content_categories</th>\n",
       "      <th>content_tags</th>\n",
       "      <th>content_word_count</th>\n",
       "      <th>content_department_path</th>\n",
       "      <th>body</th>\n",
       "    </tr>\n",
       "  </thead>\n",
       "  <tbody>\n",
       "    <tr>\n",
       "      <th>0</th>\n",
       "      <td>1.6272172</td>\n",
       "      <td>CBC N.L. launches annual Make the Season Kind ...</td>\n",
       "      <td>Text</td>\n",
       "      <td>2021-12-06T04:30:00</td>\n",
       "      <td>2021-12-06T04:30:00</td>\n",
       "      <td>0</td>\n",
       "      <td>[{'content_category': 'Holidays'}, {'content_c...</td>\n",
       "      <td>[{'type': 'generic', 'name': 'CBC Feed NL'}, {...</td>\n",
       "      <td>288</td>\n",
       "      <td>News/Canada/Nfld. &amp; Labrador</td>\n",
       "      <td>CBC N.L. is kicking off the annual Make the Se...</td>\n",
       "    </tr>\n",
       "    <tr>\n",
       "      <th>1</th>\n",
       "      <td>1.5434542</td>\n",
       "      <td>Watch World Cup bobsleigh and skeleton from Ge...</td>\n",
       "      <td>Text</td>\n",
       "      <td>2020-01-21T18:06:39</td>\n",
       "      <td>2020-01-26T10:09:38</td>\n",
       "      <td>0</td>\n",
       "      <td>[{'content_category': 'Women's sports'}, {'con...</td>\n",
       "      <td>[{'type': 'location', 'name': 'Canada'}, {'typ...</td>\n",
       "      <td>48</td>\n",
       "      <td>Sports/Olympics/Winter Sports/Sliding</td>\n",
       "      <td>Click on the video player above to watch live ...</td>\n",
       "    </tr>\n",
       "    <tr>\n",
       "      <th>...</th>\n",
       "      <td>...</td>\n",
       "      <td>...</td>\n",
       "      <td>...</td>\n",
       "      <td>...</td>\n",
       "      <td>...</td>\n",
       "      <td>...</td>\n",
       "      <td>...</td>\n",
       "      <td>...</td>\n",
       "      <td>...</td>\n",
       "      <td>...</td>\n",
       "      <td>...</td>\n",
       "    </tr>\n",
       "    <tr>\n",
       "      <th>98</th>\n",
       "      <td>1.5871770</td>\n",
       "      <td>Zendaya, zombies and asteroids: The best new f...</td>\n",
       "      <td>Text</td>\n",
       "      <td>2021-01-14T04:00:00</td>\n",
       "      <td>2021-01-15T14:31:48</td>\n",
       "      <td>0</td>\n",
       "      <td>[]</td>\n",
       "      <td>[]</td>\n",
       "      <td>893</td>\n",
       "      <td>News/Entertainment</td>\n",
       "      <td>The final months of 2020 saw the   with both D...</td>\n",
       "    </tr>\n",
       "    <tr>\n",
       "      <th>99</th>\n",
       "      <td>1.6196201</td>\n",
       "      <td>2024 Joan Donaldson CBC News Scholarship - Pos...</td>\n",
       "      <td>Text</td>\n",
       "      <td>2021-10-03T20:04:53</td>\n",
       "      <td>2024-02-16T13:10:11</td>\n",
       "      <td>0</td>\n",
       "      <td>[]</td>\n",
       "      <td>[{'type': 'organization', 'name': 'CBC News'}]</td>\n",
       "      <td>4501</td>\n",
       "      <td>News/Joan Donaldson Scholars</td>\n",
       "      <td></td>\n",
       "    </tr>\n",
       "  </tbody>\n",
       "</table>\n",
       "<p>100 rows × 11 columns</p>\n",
       "</div>"
      ],
      "text/plain": [
       "   content_id                                   content_headline content_type  \\\n",
       "0   1.6272172  CBC N.L. launches annual Make the Season Kind ...         Text   \n",
       "1   1.5434542  Watch World Cup bobsleigh and skeleton from Ge...         Text   \n",
       "..        ...                                                ...          ...   \n",
       "98  1.5871770  Zendaya, zombies and asteroids: The best new f...         Text   \n",
       "99  1.6196201  2024 Joan Donaldson CBC News Scholarship - Pos...         Text   \n",
       "\n",
       "   content_publish_time  content_last_update content_edits  \\\n",
       "0   2021-12-06T04:30:00  2021-12-06T04:30:00             0   \n",
       "1   2020-01-21T18:06:39  2020-01-26T10:09:38             0   \n",
       "..                  ...                  ...           ...   \n",
       "98  2021-01-14T04:00:00  2021-01-15T14:31:48             0   \n",
       "99  2021-10-03T20:04:53  2024-02-16T13:10:11             0   \n",
       "\n",
       "                                   content_categories  \\\n",
       "0   [{'content_category': 'Holidays'}, {'content_c...   \n",
       "1   [{'content_category': 'Women's sports'}, {'con...   \n",
       "..                                                ...   \n",
       "98                                                 []   \n",
       "99                                                 []   \n",
       "\n",
       "                                         content_tags content_word_count  \\\n",
       "0   [{'type': 'generic', 'name': 'CBC Feed NL'}, {...                288   \n",
       "1   [{'type': 'location', 'name': 'Canada'}, {'typ...                 48   \n",
       "..                                                ...                ...   \n",
       "98                                                 []                893   \n",
       "99     [{'type': 'organization', 'name': 'CBC News'}]               4501   \n",
       "\n",
       "                  content_department_path  \\\n",
       "0            News/Canada/Nfld. & Labrador   \n",
       "1   Sports/Olympics/Winter Sports/Sliding   \n",
       "..                                    ...   \n",
       "98                     News/Entertainment   \n",
       "99           News/Joan Donaldson Scholars   \n",
       "\n",
       "                                                 body  \n",
       "0   CBC N.L. is kicking off the annual Make the Se...  \n",
       "1   Click on the video player above to watch live ...  \n",
       "..                                                ...  \n",
       "98  The final months of 2020 saw the   with both D...  \n",
       "99                                                     \n",
       "\n",
       "[100 rows x 11 columns]"
      ]
     },
     "execution_count": 38,
     "metadata": {},
     "output_type": "execute_result"
    }
   ],
   "source": [
    "with open(json_file, \"r\", encoding=\"utf-8\") as f:\n",
    "    data = json.load(f)\n",
    "\n",
    "\n",
    "df = pd.json_normalize(data, sep='_')\n",
    "\n",
    "print(f\"Total articles: {len(df)}\")\n",
    "df"
   ]
  },
  {
   "cell_type": "code",
   "execution_count": 39,
   "id": "86453c41",
   "metadata": {},
   "outputs": [
    {
     "name": "stdout",
     "output_type": "stream",
     "text": [
      "CBC N.L. is kicking off the annual Make the Season Kind campaign for the month of December with spec\n",
      "ial programming and a virtual coming together in support of food banks across the province. This yea\n",
      "r, CBC N.L. is continuing to partner with the Community Food Sharing Association, an organization th\n",
      "at distributes to food banks across Newfoundland and Labrador year-round to help keep pantries stock\n",
      "ed for people in need.&nbsp; Included is the annual Feed N.L. Day on Dec. 10, which in 2020 helped r\n",
      "aise&nbsp;$193,815 for local food banks. Some community organizations across Newfoundland and Labrad\n",
      "or are experiencing increased calls for help leading up to the holidays.&nbsp; Bridges to Hope and F\n",
      "ood First N.L. both say more first-time food bank users are reaching out. Maj. Rene Loveless of the \n",
      "Salvation Army said families and individuals are making tough decisions every day on how to put food\n",
      " on their tables while trying to make ends meet.&nbsp; \"When it comes to the increased cost of suppl\n",
      "ying food for their families, that's certainly a significant factor,\" he said.&nbsp; \"And it's a sig\n",
      "nificant factor for us a provider as well. Our food dollar doesn't take us as far as it used to. So \n",
      "that's something that we're certainly seeing as well.&nbsp; Loveless said donations to his organizat\n",
      "ion are going well so far this year. Last year,&nbsp;the Salvation Army helped 2,000 families over t\n",
      "he holidays, he said, but added it's expected the need is going to increase by 15 per cent this time\n",
      " around. The annual Make the Season Kind campaign will be virtual again this year. The public can su\n",
      "pport the Community Food Sharing Association by making a donation online – please visit:  .\n"
     ]
    }
   ],
   "source": [
    "chunk_size = 100\n",
    "text = df.body[0]\n",
    "\n",
    "chunks = [text[i:i+chunk_size] for i in range(0, len(text), chunk_size)]\n",
    "\n",
    "for i, chunk in enumerate(chunks):\n",
    "    print(f\"{chunk}\")"
   ]
  },
  {
   "cell_type": "code",
   "execution_count": 40,
   "id": "a99dc50d",
   "metadata": {},
   "outputs": [
    {
     "name": "stdout",
     "output_type": "stream",
     "text": [
      "<class 'pandas.core.frame.DataFrame'>\n",
      "RangeIndex: 100 entries, 0 to 99\n",
      "Data columns (total 11 columns):\n",
      " #   Column                   Non-Null Count  Dtype \n",
      "---  ------                   --------------  ----- \n",
      " 0   content_id               100 non-null    object\n",
      " 1   content_headline         100 non-null    object\n",
      " 2   content_type             100 non-null    object\n",
      " 3   content_publish_time     100 non-null    object\n",
      " 4   content_last_update      100 non-null    object\n",
      " 5   content_edits            100 non-null    object\n",
      " 6   content_categories       100 non-null    object\n",
      " 7   content_tags             100 non-null    object\n",
      " 8   content_word_count       100 non-null    object\n",
      " 9   content_department_path  90 non-null     object\n",
      " 10  body                     100 non-null    object\n",
      "dtypes: object(11)\n",
      "memory usage: 8.7+ KB\n"
     ]
    }
   ],
   "source": [
    "df.info() # Notice, nulls in content_department_path ? "
   ]
  },
  {
   "cell_type": "code",
   "execution_count": 41,
   "id": "8034b80e",
   "metadata": {},
   "outputs": [
    {
     "data": {
      "text/html": [
       "<div>\n",
       "<style scoped>\n",
       "    .dataframe tbody tr th:only-of-type {\n",
       "        vertical-align: middle;\n",
       "    }\n",
       "\n",
       "    .dataframe tbody tr th {\n",
       "        vertical-align: top;\n",
       "    }\n",
       "\n",
       "    .dataframe thead th {\n",
       "        text-align: right;\n",
       "    }\n",
       "</style>\n",
       "<table border=\"1\" class=\"dataframe\">\n",
       "  <thead>\n",
       "    <tr style=\"text-align: right;\">\n",
       "      <th></th>\n",
       "      <th>count</th>\n",
       "      <th>unique</th>\n",
       "      <th>top</th>\n",
       "      <th>freq</th>\n",
       "    </tr>\n",
       "  </thead>\n",
       "  <tbody>\n",
       "    <tr>\n",
       "      <th>content_id</th>\n",
       "      <td>100</td>\n",
       "      <td>100</td>\n",
       "      <td>1.6272172</td>\n",
       "      <td>1</td>\n",
       "    </tr>\n",
       "    <tr>\n",
       "      <th>content_headline</th>\n",
       "      <td>100</td>\n",
       "      <td>100</td>\n",
       "      <td>CBC N.L. launches annual Make the Season Kind ...</td>\n",
       "      <td>1</td>\n",
       "    </tr>\n",
       "    <tr>\n",
       "      <th>...</th>\n",
       "      <td>...</td>\n",
       "      <td>...</td>\n",
       "      <td>...</td>\n",
       "      <td>...</td>\n",
       "    </tr>\n",
       "    <tr>\n",
       "      <th>content_department_path</th>\n",
       "      <td>90</td>\n",
       "      <td>35</td>\n",
       "      <td>News/World</td>\n",
       "      <td>11</td>\n",
       "    </tr>\n",
       "    <tr>\n",
       "      <th>body</th>\n",
       "      <td>100</td>\n",
       "      <td>99</td>\n",
       "      <td></td>\n",
       "      <td>2</td>\n",
       "    </tr>\n",
       "  </tbody>\n",
       "</table>\n",
       "<p>11 rows × 4 columns</p>\n",
       "</div>"
      ],
      "text/plain": [
       "                        count unique  \\\n",
       "content_id                100    100   \n",
       "content_headline          100    100   \n",
       "...                       ...    ...   \n",
       "content_department_path    90     35   \n",
       "body                      100     99   \n",
       "\n",
       "                                                                       top  \\\n",
       "content_id                                                       1.6272172   \n",
       "content_headline         CBC N.L. launches annual Make the Season Kind ...   \n",
       "...                                                                    ...   \n",
       "content_department_path                                         News/World   \n",
       "body                                                                         \n",
       "\n",
       "                        freq  \n",
       "content_id                 1  \n",
       "content_headline           1  \n",
       "...                      ...  \n",
       "content_department_path   11  \n",
       "body                       2  \n",
       "\n",
       "[11 rows x 4 columns]"
      ]
     },
     "execution_count": 41,
     "metadata": {},
     "output_type": "execute_result"
    }
   ],
   "source": [
    "df.describe(include='all').T"
   ]
  },
  {
   "cell_type": "code",
   "execution_count": 42,
   "id": "fcb90b43",
   "metadata": {},
   "outputs": [],
   "source": [
    "df[\"content_word_count\"] = pd.to_numeric(df[\"content_word_count\"], errors=\"coerce\")"
   ]
  },
  {
   "cell_type": "code",
   "execution_count": 43,
   "id": "584e09fa",
   "metadata": {},
   "outputs": [
    {
     "data": {
      "text/plain": [
       "np.int64(0)"
      ]
     },
     "execution_count": 43,
     "metadata": {},
     "output_type": "execute_result"
    }
   ],
   "source": [
    "df[\"content_word_count\"].isnull().sum()"
   ]
  },
  {
   "cell_type": "code",
   "execution_count": 44,
   "id": "b94b1f71",
   "metadata": {},
   "outputs": [
    {
     "data": {
      "text/plain": [
       "[{'content_category': 'Holidays'},\n",
       " {'content_category': 'Political campaigns'},\n",
       " {'content_category': 'Local food'},\n",
       " {'content_category': 'Food banks'}]"
      ]
     },
     "execution_count": 44,
     "metadata": {},
     "output_type": "execute_result"
    }
   ],
   "source": [
    "df[\"content_categories\"][0]"
   ]
  },
  {
   "cell_type": "code",
   "execution_count": 45,
   "id": "461cec6f",
   "metadata": {},
   "outputs": [
    {
     "data": {
      "text/plain": [
       "0     4\n",
       "1     2\n",
       "     ..\n",
       "98    0\n",
       "99    0\n",
       "Name: content_categories, Length: 100, dtype: int64"
      ]
     },
     "execution_count": 45,
     "metadata": {},
     "output_type": "execute_result"
    }
   ],
   "source": [
    "df[\"content_categories\"].apply(lambda x: len(x) if isinstance(x, list) else 0)"
   ]
  },
  {
   "cell_type": "code",
   "execution_count": 46,
   "id": "b3fc2efd",
   "metadata": {},
   "outputs": [
    {
     "data": {
      "image/png": "[encoded data removed]",
      "text/plain": [
       "<Figure size 3200x800 with 1 Axes>"
      ]
     },
     "metadata": {},
     "output_type": "display_data"
    }
   ],
   "source": [
    "import seaborn as sns\n",
    "sns.displot(df[\"content_word_count\"], bins=20, kde=True , height=8, aspect=4); "
   ]
  },
  {
   "cell_type": "code",
   "execution_count": 47,
   "id": "a259c45b",
   "metadata": {},
   "outputs": [
    {
     "data": {
      "text/plain": [
       "<seaborn.axisgrid.FacetGrid at 0x7fd3049814b0>"
      ]
     },
     "execution_count": 47,
     "metadata": {},
     "output_type": "execute_result"
    },
    {
     "data": {
      "image/png": "[encoded data removed]",
      "text/plain": [
       "<Figure size 1500x600 with 1 Axes>"
      ]
     },
     "metadata": {},
     "output_type": "display_data"
    }
   ],
   "source": [
    "bin_edges = list(range(0, 1000, 100)) \n",
    "\n",
    "g = sns.displot(df[\"content_word_count\"], kde=True, bins=bin_edges, height=6, aspect=2.5)\n",
    "\n",
    "g.ax.set_xticks(bin_edges)\n",
    "\n",
    "g.ax.set_xticklabels(bin_edges, rotation=45)\n",
    "g.fig.suptitle(\"Distribution of Content Word Count\", fontsize=16)\n",
    "g.set_axis_labels(\"Word Count\", \"Frequency\")"
   ]
  },
  {
   "cell_type": "code",
   "execution_count": 48,
   "id": "d8b22e05",
   "metadata": {},
   "outputs": [
    {
     "data": {
      "text/plain": [
       "[{'type': 'generic', 'name': 'CBC Feed NL'},\n",
       " {'type': 'generic', 'name': 'CBC Feed NL Day'},\n",
       " {'type': 'generic', 'name': 'Food banks'},\n",
       " {'type': 'generic', 'name': 'Food donations'},\n",
       " {'type': 'generic', 'name': 'donations'},\n",
       " {'type': 'location', 'name': 'Newfoundland and Labrador'},\n",
       " {'type': 'organization', 'name': 'CBC'},\n",
       " {'type': 'organization', 'name': 'Salvation Army'},\n",
       " {'type': 'person', 'name': 'Rene Loveless'}]"
      ]
     },
     "execution_count": 48,
     "metadata": {},
     "output_type": "execute_result"
    }
   ],
   "source": [
    "df[\"content_tags\"][0]"
   ]
  },
  {
   "cell_type": "code",
   "execution_count": 49,
   "id": "79a8963b",
   "metadata": {},
   "outputs": [
    {
     "data": {
      "text/plain": [
       "3                                                      \n",
       "43    The Tampa Bay Lightning visit the Colorado Ava...\n",
       "Name: body, dtype: object"
      ]
     },
     "execution_count": 49,
     "metadata": {},
     "output_type": "execute_result"
    }
   ],
   "source": [
    "df.loc[df[\"content_word_count\"] < 10, 'body']"
   ]
  },
  {
   "cell_type": "code",
   "execution_count": 50,
   "id": "ebd1c59a",
   "metadata": {},
   "outputs": [
    {
     "data": {
      "text/plain": [
       "''"
      ]
     },
     "execution_count": 50,
     "metadata": {},
     "output_type": "execute_result"
    }
   ],
   "source": [
    "df.loc[3, 'body']"
   ]
  },
  {
   "cell_type": "code",
   "execution_count": 51,
   "id": "ca391f46",
   "metadata": {},
   "outputs": [
    {
     "data": {
      "text/plain": [
       "'The Tampa Bay Lightning visit the Colorado Avalanche for Game 5\\xa0of their Stanley Cup\\xa0final\\xa0series on Friday\\xa0at 8 p.m. ET on  . Watch coverage\\xa0with our live stream\\xa0on the CBC Sports app or tune in to CBC-TV. Please note that this stream is only designed to operate in the CBC Sports App. If you are viewing this on desktop or mobile web,   to watch this program.'"
      ]
     },
     "execution_count": 51,
     "metadata": {},
     "output_type": "execute_result"
    }
   ],
   "source": [
    "df.loc[43, 'body']"
   ]
  },
  {
   "cell_type": "code",
   "execution_count": 52,
   "id": "75bb7e4e",
   "metadata": {},
   "outputs": [
    {
     "data": {
      "text/html": [
       "<div>\n",
       "<style scoped>\n",
       "    .dataframe tbody tr th:only-of-type {\n",
       "        vertical-align: middle;\n",
       "    }\n",
       "\n",
       "    .dataframe tbody tr th {\n",
       "        vertical-align: top;\n",
       "    }\n",
       "\n",
       "    .dataframe thead th {\n",
       "        text-align: right;\n",
       "    }\n",
       "</style>\n",
       "<table border=\"1\" class=\"dataframe\">\n",
       "  <thead>\n",
       "    <tr style=\"text-align: right;\">\n",
       "      <th></th>\n",
       "      <th>content_id</th>\n",
       "      <th>content_headline</th>\n",
       "      <th>content_type</th>\n",
       "      <th>content_publish_time</th>\n",
       "      <th>content_last_update</th>\n",
       "      <th>content_edits</th>\n",
       "      <th>content_categories</th>\n",
       "      <th>content_tags</th>\n",
       "      <th>content_word_count</th>\n",
       "      <th>content_department_path</th>\n",
       "      <th>body</th>\n",
       "    </tr>\n",
       "  </thead>\n",
       "  <tbody>\n",
       "    <tr>\n",
       "      <th>0</th>\n",
       "      <td>1.6272172</td>\n",
       "      <td>CBC N.L. launches annual Make the Season Kind ...</td>\n",
       "      <td>Text</td>\n",
       "      <td>2021-12-06T04:30:00</td>\n",
       "      <td>2021-12-06T04:30:00</td>\n",
       "      <td>0</td>\n",
       "      <td>[{'content_category': 'Holidays'}, {'content_c...</td>\n",
       "      <td>[{'type': 'generic', 'name': 'CBC Feed NL'}, {...</td>\n",
       "      <td>288</td>\n",
       "      <td>News/Canada/Nfld. &amp; Labrador</td>\n",
       "      <td>CBC N.L. is kicking off the annual Make the Se...</td>\n",
       "    </tr>\n",
       "    <tr>\n",
       "      <th>1</th>\n",
       "      <td>1.5434542</td>\n",
       "      <td>Watch World Cup bobsleigh and skeleton from Ge...</td>\n",
       "      <td>Text</td>\n",
       "      <td>2020-01-21T18:06:39</td>\n",
       "      <td>2020-01-26T10:09:38</td>\n",
       "      <td>0</td>\n",
       "      <td>[{'content_category': 'Women's sports'}, {'con...</td>\n",
       "      <td>[{'type': 'location', 'name': 'Canada'}, {'typ...</td>\n",
       "      <td>48</td>\n",
       "      <td>Sports/Olympics/Winter Sports/Sliding</td>\n",
       "      <td>Click on the video player above to watch live ...</td>\n",
       "    </tr>\n",
       "    <tr>\n",
       "      <th>...</th>\n",
       "      <td>...</td>\n",
       "      <td>...</td>\n",
       "      <td>...</td>\n",
       "      <td>...</td>\n",
       "      <td>...</td>\n",
       "      <td>...</td>\n",
       "      <td>...</td>\n",
       "      <td>...</td>\n",
       "      <td>...</td>\n",
       "      <td>...</td>\n",
       "      <td>...</td>\n",
       "    </tr>\n",
       "    <tr>\n",
       "      <th>96</th>\n",
       "      <td>1.5871770</td>\n",
       "      <td>Zendaya, zombies and asteroids: The best new f...</td>\n",
       "      <td>Text</td>\n",
       "      <td>2021-01-14T04:00:00</td>\n",
       "      <td>2021-01-15T14:31:48</td>\n",
       "      <td>0</td>\n",
       "      <td>[]</td>\n",
       "      <td>[]</td>\n",
       "      <td>893</td>\n",
       "      <td>News/Entertainment</td>\n",
       "      <td>The final months of 2020 saw the   with both D...</td>\n",
       "    </tr>\n",
       "    <tr>\n",
       "      <th>97</th>\n",
       "      <td>1.6196201</td>\n",
       "      <td>2024 Joan Donaldson CBC News Scholarship - Pos...</td>\n",
       "      <td>Text</td>\n",
       "      <td>2021-10-03T20:04:53</td>\n",
       "      <td>2024-02-16T13:10:11</td>\n",
       "      <td>0</td>\n",
       "      <td>[]</td>\n",
       "      <td>[{'type': 'organization', 'name': 'CBC News'}]</td>\n",
       "      <td>4501</td>\n",
       "      <td>News/Joan Donaldson Scholars</td>\n",
       "      <td></td>\n",
       "    </tr>\n",
       "  </tbody>\n",
       "</table>\n",
       "<p>98 rows × 11 columns</p>\n",
       "</div>"
      ],
      "text/plain": [
       "   content_id                                   content_headline content_type  \\\n",
       "0   1.6272172  CBC N.L. launches annual Make the Season Kind ...         Text   \n",
       "1   1.5434542  Watch World Cup bobsleigh and skeleton from Ge...         Text   \n",
       "..        ...                                                ...          ...   \n",
       "96  1.5871770  Zendaya, zombies and asteroids: The best new f...         Text   \n",
       "97  1.6196201  2024 Joan Donaldson CBC News Scholarship - Pos...         Text   \n",
       "\n",
       "   content_publish_time  content_last_update content_edits  \\\n",
       "0   2021-12-06T04:30:00  2021-12-06T04:30:00             0   \n",
       "1   2020-01-21T18:06:39  2020-01-26T10:09:38             0   \n",
       "..                  ...                  ...           ...   \n",
       "96  2021-01-14T04:00:00  2021-01-15T14:31:48             0   \n",
       "97  2021-10-03T20:04:53  2024-02-16T13:10:11             0   \n",
       "\n",
       "                                   content_categories  \\\n",
       "0   [{'content_category': 'Holidays'}, {'content_c...   \n",
       "1   [{'content_category': 'Women's sports'}, {'con...   \n",
       "..                                                ...   \n",
       "96                                                 []   \n",
       "97                                                 []   \n",
       "\n",
       "                                         content_tags  content_word_count  \\\n",
       "0   [{'type': 'generic', 'name': 'CBC Feed NL'}, {...                 288   \n",
       "1   [{'type': 'location', 'name': 'Canada'}, {'typ...                  48   \n",
       "..                                                ...                 ...   \n",
       "96                                                 []                 893   \n",
       "97     [{'type': 'organization', 'name': 'CBC News'}]                4501   \n",
       "\n",
       "                  content_department_path  \\\n",
       "0            News/Canada/Nfld. & Labrador   \n",
       "1   Sports/Olympics/Winter Sports/Sliding   \n",
       "..                                    ...   \n",
       "96                     News/Entertainment   \n",
       "97           News/Joan Donaldson Scholars   \n",
       "\n",
       "                                                 body  \n",
       "0   CBC N.L. is kicking off the annual Make the Se...  \n",
       "1   Click on the video player above to watch live ...  \n",
       "..                                                ...  \n",
       "96  The final months of 2020 saw the   with both D...  \n",
       "97                                                     \n",
       "\n",
       "[98 rows x 11 columns]"
      ]
     },
     "execution_count": 52,
     "metadata": {},
     "output_type": "execute_result"
    }
   ],
   "source": [
    "df = df[df[\"content_word_count\"] >= 10].reset_index(drop=True)\n",
    "df"
   ]
  },
  {
   "cell_type": "code",
   "execution_count": 53,
   "id": "122ca9a3",
   "metadata": {},
   "outputs": [
    {
     "data": {
      "text/plain": [
       "'      '"
      ]
     },
     "execution_count": 53,
     "metadata": {},
     "output_type": "execute_result"
    }
   ],
   "source": [
    "df.loc[97, 'body'] # Need to recalculate content_word_count - it says 4501 here"
   ]
  },
  {
   "cell_type": "code",
   "execution_count": 54,
   "id": "f49fb973",
   "metadata": {},
   "outputs": [
    {
     "data": {
      "text/plain": [
       "np.int64(4501)"
      ]
     },
     "execution_count": 54,
     "metadata": {},
     "output_type": "execute_result"
    }
   ],
   "source": [
    "df.loc[97, 'content_word_count']"
   ]
  },
  {
   "cell_type": "code",
   "execution_count": 55,
   "id": "4bbdb239",
   "metadata": {},
   "outputs": [
    {
     "data": {
      "text/html": [
       "<div>\n",
       "<style scoped>\n",
       "    .dataframe tbody tr th:only-of-type {\n",
       "        vertical-align: middle;\n",
       "    }\n",
       "\n",
       "    .dataframe tbody tr th {\n",
       "        vertical-align: top;\n",
       "    }\n",
       "\n",
       "    .dataframe thead th {\n",
       "        text-align: right;\n",
       "    }\n",
       "</style>\n",
       "<table border=\"1\" class=\"dataframe\">\n",
       "  <thead>\n",
       "    <tr style=\"text-align: right;\">\n",
       "      <th></th>\n",
       "      <th>content_id</th>\n",
       "      <th>content_headline</th>\n",
       "      <th>content_type</th>\n",
       "      <th>content_publish_time</th>\n",
       "      <th>content_last_update</th>\n",
       "      <th>content_edits</th>\n",
       "      <th>content_categories</th>\n",
       "      <th>content_tags</th>\n",
       "      <th>content_word_count</th>\n",
       "      <th>content_department_path</th>\n",
       "      <th>body</th>\n",
       "      <th>body_word_count</th>\n",
       "    </tr>\n",
       "  </thead>\n",
       "  <tbody>\n",
       "    <tr>\n",
       "      <th>0</th>\n",
       "      <td>1.6272172</td>\n",
       "      <td>CBC N.L. launches annual Make the Season Kind ...</td>\n",
       "      <td>Text</td>\n",
       "      <td>2021-12-06T04:30:00</td>\n",
       "      <td>2021-12-06T04:30:00</td>\n",
       "      <td>0</td>\n",
       "      <td>[{'content_category': 'Holidays'}, {'content_c...</td>\n",
       "      <td>[{'type': 'generic', 'name': 'CBC Feed NL'}, {...</td>\n",
       "      <td>288</td>\n",
       "      <td>News/Canada/Nfld. &amp; Labrador</td>\n",
       "      <td>CBC N.L. is kicking off the annual Make the Se...</td>\n",
       "      <td>278</td>\n",
       "    </tr>\n",
       "    <tr>\n",
       "      <th>1</th>\n",
       "      <td>1.5434542</td>\n",
       "      <td>Watch World Cup bobsleigh and skeleton from Ge...</td>\n",
       "      <td>Text</td>\n",
       "      <td>2020-01-21T18:06:39</td>\n",
       "      <td>2020-01-26T10:09:38</td>\n",
       "      <td>0</td>\n",
       "      <td>[{'content_category': 'Women's sports'}, {'con...</td>\n",
       "      <td>[{'type': 'location', 'name': 'Canada'}, {'typ...</td>\n",
       "      <td>48</td>\n",
       "      <td>Sports/Olympics/Winter Sports/Sliding</td>\n",
       "      <td>Click on the video player above to watch live ...</td>\n",
       "      <td>30</td>\n",
       "    </tr>\n",
       "    <tr>\n",
       "      <th>...</th>\n",
       "      <td>...</td>\n",
       "      <td>...</td>\n",
       "      <td>...</td>\n",
       "      <td>...</td>\n",
       "      <td>...</td>\n",
       "      <td>...</td>\n",
       "      <td>...</td>\n",
       "      <td>...</td>\n",
       "      <td>...</td>\n",
       "      <td>...</td>\n",
       "      <td>...</td>\n",
       "      <td>...</td>\n",
       "    </tr>\n",
       "    <tr>\n",
       "      <th>96</th>\n",
       "      <td>1.5871770</td>\n",
       "      <td>Zendaya, zombies and asteroids: The best new f...</td>\n",
       "      <td>Text</td>\n",
       "      <td>2021-01-14T04:00:00</td>\n",
       "      <td>2021-01-15T14:31:48</td>\n",
       "      <td>0</td>\n",
       "      <td>[]</td>\n",
       "      <td>[]</td>\n",
       "      <td>893</td>\n",
       "      <td>News/Entertainment</td>\n",
       "      <td>The final months of 2020 saw the   with both D...</td>\n",
       "      <td>788</td>\n",
       "    </tr>\n",
       "    <tr>\n",
       "      <th>97</th>\n",
       "      <td>1.6196201</td>\n",
       "      <td>2024 Joan Donaldson CBC News Scholarship - Pos...</td>\n",
       "      <td>Text</td>\n",
       "      <td>2021-10-03T20:04:53</td>\n",
       "      <td>2024-02-16T13:10:11</td>\n",
       "      <td>0</td>\n",
       "      <td>[]</td>\n",
       "      <td>[{'type': 'organization', 'name': 'CBC News'}]</td>\n",
       "      <td>4501</td>\n",
       "      <td>News/Joan Donaldson Scholars</td>\n",
       "      <td></td>\n",
       "      <td>0</td>\n",
       "    </tr>\n",
       "  </tbody>\n",
       "</table>\n",
       "<p>98 rows × 12 columns</p>\n",
       "</div>"
      ],
      "text/plain": [
       "   content_id                                   content_headline content_type  \\\n",
       "0   1.6272172  CBC N.L. launches annual Make the Season Kind ...         Text   \n",
       "1   1.5434542  Watch World Cup bobsleigh and skeleton from Ge...         Text   \n",
       "..        ...                                                ...          ...   \n",
       "96  1.5871770  Zendaya, zombies and asteroids: The best new f...         Text   \n",
       "97  1.6196201  2024 Joan Donaldson CBC News Scholarship - Pos...         Text   \n",
       "\n",
       "   content_publish_time  content_last_update content_edits  \\\n",
       "0   2021-12-06T04:30:00  2021-12-06T04:30:00             0   \n",
       "1   2020-01-21T18:06:39  2020-01-26T10:09:38             0   \n",
       "..                  ...                  ...           ...   \n",
       "96  2021-01-14T04:00:00  2021-01-15T14:31:48             0   \n",
       "97  2021-10-03T20:04:53  2024-02-16T13:10:11             0   \n",
       "\n",
       "                                   content_categories  \\\n",
       "0   [{'content_category': 'Holidays'}, {'content_c...   \n",
       "1   [{'content_category': 'Women's sports'}, {'con...   \n",
       "..                                                ...   \n",
       "96                                                 []   \n",
       "97                                                 []   \n",
       "\n",
       "                                         content_tags  content_word_count  \\\n",
       "0   [{'type': 'generic', 'name': 'CBC Feed NL'}, {...                 288   \n",
       "1   [{'type': 'location', 'name': 'Canada'}, {'typ...                  48   \n",
       "..                                                ...                 ...   \n",
       "96                                                 []                 893   \n",
       "97     [{'type': 'organization', 'name': 'CBC News'}]                4501   \n",
       "\n",
       "                  content_department_path  \\\n",
       "0            News/Canada/Nfld. & Labrador   \n",
       "1   Sports/Olympics/Winter Sports/Sliding   \n",
       "..                                    ...   \n",
       "96                     News/Entertainment   \n",
       "97           News/Joan Donaldson Scholars   \n",
       "\n",
       "                                                 body  body_word_count  \n",
       "0   CBC N.L. is kicking off the annual Make the Se...              278  \n",
       "1   Click on the video player above to watch live ...               30  \n",
       "..                                                ...              ...  \n",
       "96  The final months of 2020 saw the   with both D...              788  \n",
       "97                                                                   0  \n",
       "\n",
       "[98 rows x 12 columns]"
      ]
     },
     "execution_count": 55,
     "metadata": {},
     "output_type": "execute_result"
    }
   ],
   "source": [
    "df[\"body_word_count\"] = df[\"body\"].apply(lambda x: len(str(x).split()))\n",
    "df"
   ]
  },
  {
   "cell_type": "code",
   "execution_count": 56,
   "id": "16e0e614",
   "metadata": {},
   "outputs": [
    {
     "data": {
      "text/plain": [
       "np.int64(0)"
      ]
     },
     "execution_count": 56,
     "metadata": {},
     "output_type": "execute_result"
    }
   ],
   "source": [
    "#df[\"content_id\"] = pd.to_numeric(df[\"content_id\"], errors='coerce')\n",
    "df[\"content_id\"].isnull().sum() "
   ]
  },
  {
   "cell_type": "code",
   "execution_count": 57,
   "id": "5685ddc4",
   "metadata": {},
   "outputs": [
    {
     "data": {
      "text/plain": [
       "content_id\n",
       "1.6272172    1\n",
       "1.5434542    1\n",
       "            ..\n",
       "1.5871770    1\n",
       "1.6196201    1\n",
       "Name: count, Length: 98, dtype: int64"
      ]
     },
     "execution_count": 57,
     "metadata": {},
     "output_type": "execute_result"
    }
   ],
   "source": [
    "df[\"content_id\"].value_counts(dropna=False)"
   ]
  },
  {
   "cell_type": "markdown",
   "id": "1bc19a27",
   "metadata": {},
   "source": [
    "# Enrich the Body Text using \"content_categories\"\n",
    "\n",
    "NOTE: If we enrich Body Text using the content_headline, the accuracy of the model may become better, but technically for the 2nd task you specified it will be a data leakage. The 2nd task you specidief is - \"suggest SEO-optimized headline for this article: [Insert article id]\". Potentially, if a clinet want we can implement it. \n",
    "\n",
    "- The model will likely reuse or paraphrase the original headline, because it’s visible in context.\n",
    "- In a functional sense, it’s a form of prompt leakage because the model has access to the ground truth label (the original headline) when you’re asking it to generate a headline.\n",
    "- Thus I only add \"content_categories\"\n"
   ]
  },
  {
   "cell_type": "code",
   "execution_count": 58,
   "id": "69a00e4f",
   "metadata": {},
   "outputs": [
    {
     "data": {
      "text/plain": [
       "[{'content_category': 'Holidays'},\n",
       " {'content_category': 'Political campaigns'},\n",
       " {'content_category': 'Local food'},\n",
       " {'content_category': 'Food banks'}]"
      ]
     },
     "execution_count": 58,
     "metadata": {},
     "output_type": "execute_result"
    }
   ],
   "source": [
    "df[\"content_categories\"][0]"
   ]
  },
  {
   "cell_type": "code",
   "execution_count": 59,
   "id": "16535abf",
   "metadata": {},
   "outputs": [],
   "source": [
    "def format_categories(cat_list):\n",
    "    if isinstance(cat_list, list):\n",
    "        categories = [item.get(\"content_category\", \"\") for item in cat_list if \"content_category\" in item]\n",
    "        return \"Content Category: \" + \", \".join(categories) + \".\"\n",
    "    return \"\"\n",
    "\n",
    "\n",
    "df[\"body_updated\"] = df.apply(lambda x: format_categories(x[\"content_categories\"]) +  \"\\n\" + str(x[\"body\"]), axis=1)"
   ]
  },
  {
   "cell_type": "code",
   "execution_count": 60,
   "id": "aed77014",
   "metadata": {},
   "outputs": [
    {
     "data": {
      "text/html": [
       "<div>\n",
       "<style scoped>\n",
       "    .dataframe tbody tr th:only-of-type {\n",
       "        vertical-align: middle;\n",
       "    }\n",
       "\n",
       "    .dataframe tbody tr th {\n",
       "        vertical-align: top;\n",
       "    }\n",
       "\n",
       "    .dataframe thead th {\n",
       "        text-align: right;\n",
       "    }\n",
       "</style>\n",
       "<table border=\"1\" class=\"dataframe\">\n",
       "  <thead>\n",
       "    <tr style=\"text-align: right;\">\n",
       "      <th></th>\n",
       "      <th>content_id</th>\n",
       "      <th>content_headline</th>\n",
       "      <th>content_type</th>\n",
       "      <th>content_publish_time</th>\n",
       "      <th>content_last_update</th>\n",
       "      <th>content_edits</th>\n",
       "      <th>content_categories</th>\n",
       "      <th>content_tags</th>\n",
       "      <th>content_word_count</th>\n",
       "      <th>content_department_path</th>\n",
       "      <th>body</th>\n",
       "      <th>body_word_count</th>\n",
       "      <th>body_updated</th>\n",
       "    </tr>\n",
       "  </thead>\n",
       "  <tbody>\n",
       "    <tr>\n",
       "      <th>0</th>\n",
       "      <td>1.6272172</td>\n",
       "      <td>CBC N.L. launches annual Make the Season Kind ...</td>\n",
       "      <td>Text</td>\n",
       "      <td>2021-12-06T04:30:00</td>\n",
       "      <td>2021-12-06T04:30:00</td>\n",
       "      <td>0</td>\n",
       "      <td>[{'content_category': 'Holidays'}, {'content_c...</td>\n",
       "      <td>[{'type': 'generic', 'name': 'CBC Feed NL'}, {...</td>\n",
       "      <td>288</td>\n",
       "      <td>News/Canada/Nfld. &amp; Labrador</td>\n",
       "      <td>CBC N.L. is kicking off the annual Make the Se...</td>\n",
       "      <td>278</td>\n",
       "      <td>Content Category: Holidays, Political campaign...</td>\n",
       "    </tr>\n",
       "    <tr>\n",
       "      <th>1</th>\n",
       "      <td>1.5434542</td>\n",
       "      <td>Watch World Cup bobsleigh and skeleton from Ge...</td>\n",
       "      <td>Text</td>\n",
       "      <td>2020-01-21T18:06:39</td>\n",
       "      <td>2020-01-26T10:09:38</td>\n",
       "      <td>0</td>\n",
       "      <td>[{'content_category': 'Women's sports'}, {'con...</td>\n",
       "      <td>[{'type': 'location', 'name': 'Canada'}, {'typ...</td>\n",
       "      <td>48</td>\n",
       "      <td>Sports/Olympics/Winter Sports/Sliding</td>\n",
       "      <td>Click on the video player above to watch live ...</td>\n",
       "      <td>30</td>\n",
       "      <td>Content Category: Women's sports, Sports.\\nCli...</td>\n",
       "    </tr>\n",
       "    <tr>\n",
       "      <th>...</th>\n",
       "      <td>...</td>\n",
       "      <td>...</td>\n",
       "      <td>...</td>\n",
       "      <td>...</td>\n",
       "      <td>...</td>\n",
       "      <td>...</td>\n",
       "      <td>...</td>\n",
       "      <td>...</td>\n",
       "      <td>...</td>\n",
       "      <td>...</td>\n",
       "      <td>...</td>\n",
       "      <td>...</td>\n",
       "      <td>...</td>\n",
       "    </tr>\n",
       "    <tr>\n",
       "      <th>96</th>\n",
       "      <td>1.5871770</td>\n",
       "      <td>Zendaya, zombies and asteroids: The best new f...</td>\n",
       "      <td>Text</td>\n",
       "      <td>2021-01-14T04:00:00</td>\n",
       "      <td>2021-01-15T14:31:48</td>\n",
       "      <td>0</td>\n",
       "      <td>[]</td>\n",
       "      <td>[]</td>\n",
       "      <td>893</td>\n",
       "      <td>News/Entertainment</td>\n",
       "      <td>The final months of 2020 saw the   with both D...</td>\n",
       "      <td>788</td>\n",
       "      <td>Content Category: .\\nThe final months of 2020 ...</td>\n",
       "    </tr>\n",
       "    <tr>\n",
       "      <th>97</th>\n",
       "      <td>1.6196201</td>\n",
       "      <td>2024 Joan Donaldson CBC News Scholarship - Pos...</td>\n",
       "      <td>Text</td>\n",
       "      <td>2021-10-03T20:04:53</td>\n",
       "      <td>2024-02-16T13:10:11</td>\n",
       "      <td>0</td>\n",
       "      <td>[]</td>\n",
       "      <td>[{'type': 'organization', 'name': 'CBC News'}]</td>\n",
       "      <td>4501</td>\n",
       "      <td>News/Joan Donaldson Scholars</td>\n",
       "      <td></td>\n",
       "      <td>0</td>\n",
       "      <td>Content Category: .\\n</td>\n",
       "    </tr>\n",
       "  </tbody>\n",
       "</table>\n",
       "<p>98 rows × 13 columns</p>\n",
       "</div>"
      ],
      "text/plain": [
       "   content_id                                   content_headline content_type  \\\n",
       "0   1.6272172  CBC N.L. launches annual Make the Season Kind ...         Text   \n",
       "1   1.5434542  Watch World Cup bobsleigh and skeleton from Ge...         Text   \n",
       "..        ...                                                ...          ...   \n",
       "96  1.5871770  Zendaya, zombies and asteroids: The best new f...         Text   \n",
       "97  1.6196201  2024 Joan Donaldson CBC News Scholarship - Pos...         Text   \n",
       "\n",
       "   content_publish_time  content_last_update content_edits  \\\n",
       "0   2021-12-06T04:30:00  2021-12-06T04:30:00             0   \n",
       "1   2020-01-21T18:06:39  2020-01-26T10:09:38             0   \n",
       "..                  ...                  ...           ...   \n",
       "96  2021-01-14T04:00:00  2021-01-15T14:31:48             0   \n",
       "97  2021-10-03T20:04:53  2024-02-16T13:10:11             0   \n",
       "\n",
       "                                   content_categories  \\\n",
       "0   [{'content_category': 'Holidays'}, {'content_c...   \n",
       "1   [{'content_category': 'Women's sports'}, {'con...   \n",
       "..                                                ...   \n",
       "96                                                 []   \n",
       "97                                                 []   \n",
       "\n",
       "                                         content_tags  content_word_count  \\\n",
       "0   [{'type': 'generic', 'name': 'CBC Feed NL'}, {...                 288   \n",
       "1   [{'type': 'location', 'name': 'Canada'}, {'typ...                  48   \n",
       "..                                                ...                 ...   \n",
       "96                                                 []                 893   \n",
       "97     [{'type': 'organization', 'name': 'CBC News'}]                4501   \n",
       "\n",
       "                  content_department_path  \\\n",
       "0            News/Canada/Nfld. & Labrador   \n",
       "1   Sports/Olympics/Winter Sports/Sliding   \n",
       "..                                    ...   \n",
       "96                     News/Entertainment   \n",
       "97           News/Joan Donaldson Scholars   \n",
       "\n",
       "                                                 body  body_word_count  \\\n",
       "0   CBC N.L. is kicking off the annual Make the Se...              278   \n",
       "1   Click on the video player above to watch live ...               30   \n",
       "..                                                ...              ...   \n",
       "96  The final months of 2020 saw the   with both D...              788   \n",
       "97                                                                   0   \n",
       "\n",
       "                                         body_updated  \n",
       "0   Content Category: Holidays, Political campaign...  \n",
       "1   Content Category: Women's sports, Sports.\\nCli...  \n",
       "..                                                ...  \n",
       "96  Content Category: .\\nThe final months of 2020 ...  \n",
       "97                        Content Category: .\\n        \n",
       "\n",
       "[98 rows x 13 columns]"
      ]
     },
     "execution_count": 60,
     "metadata": {},
     "output_type": "execute_result"
    }
   ],
   "source": [
    "df"
   ]
  },
  {
   "cell_type": "code",
   "execution_count": 61,
   "id": "8a0a78d3",
   "metadata": {},
   "outputs": [
    {
     "name": "stdout",
     "output_type": "stream",
     "text": [
      "CBC N.L. is kicking off the annual Make the Season Kind campaign for the month of December with special programming and a virtual coming together in support of food banks across the province. This year, CBC N.L. is continuing to partner with the Community Food Sharing Association, an organization that distributes to food banks across Newfoundland and Labrador year-round to help keep pantries stocked for people in need.&nbsp; Included is the annual Feed N.L. Day on Dec. 10, which in 2020 helped raise&nbsp;$193,815 for local food banks. Some community organizations across Newfoundland and Labrador are experiencing increased calls for help leading up to the holidays.&nbsp; Bridges to Hope and Food First N.L. both say more first-time food bank users are reaching out. Maj. Rene Loveless of the Salvation Army said families and individuals are making tough decisions every day on how to put food on their tables while trying to make ends meet.&nbsp; \"When it comes to the increased cost of supplying food for their families, that's certainly a significant factor,\" he said.&nbsp; \"And it's a significant factor for us a provider as well. Our food dollar doesn't take us as far as it used to. So that's something that we're certainly seeing as well.&nbsp; Loveless said donations to his organization are going well so far this year. Last year,&nbsp;the Salvation Army helped 2,000 families over the holidays, he said, but added it's expected the need is going to increase by 15 per cent this time around. The annual Make the Season Kind campaign will be virtual again this year. The public can support the Community Food Sharing Association by making a donation online – please visit:  .\n"
     ]
    }
   ],
   "source": [
    "print(df[\"body\"][0])"
   ]
  },
  {
   "cell_type": "code",
   "execution_count": 62,
   "id": "ce98ec8e",
   "metadata": {},
   "outputs": [
    {
     "name": "stdout",
     "output_type": "stream",
     "text": [
      "Content Category: Holidays, Political campaigns, Local food, Food banks.\n",
      "CBC N.L. is kicking off the annual Make the Season Kind campaign for the month of December with special programming and a virtual coming together in support of food banks across the province. This year, CBC N.L. is continuing to partner with the Community Food Sharing Association, an organization that distributes to food banks across Newfoundland and Labrador year-round to help keep pantries stocked for people in need.&nbsp; Included is the annual Feed N.L. Day on Dec. 10, which in 2020 helped raise&nbsp;$193,815 for local food banks. Some community organizations across Newfoundland and Labrador are experiencing increased calls for help leading up to the holidays.&nbsp; Bridges to Hope and Food First N.L. both say more first-time food bank users are reaching out. Maj. Rene Loveless of the Salvation Army said families and individuals are making tough decisions every day on how to put food on their tables while trying to make ends meet.&nbsp; \"When it comes to the increased cost of supplying food for their families, that's certainly a significant factor,\" he said.&nbsp; \"And it's a significant factor for us a provider as well. Our food dollar doesn't take us as far as it used to. So that's something that we're certainly seeing as well.&nbsp; Loveless said donations to his organization are going well so far this year. Last year,&nbsp;the Salvation Army helped 2,000 families over the holidays, he said, but added it's expected the need is going to increase by 15 per cent this time around. The annual Make the Season Kind campaign will be virtual again this year. The public can support the Community Food Sharing Association by making a donation online – please visit:  .\n"
     ]
    }
   ],
   "source": [
    "print(df[\"body_updated\"][0])"
   ]
  },
  {
   "cell_type": "code",
   "execution_count": 63,
   "id": "c8f91d8e",
   "metadata": {},
   "outputs": [],
   "source": [
    "df[\"body_word_count\"] = df[\"body_updated\"].apply(lambda x: len(str(x).split()))"
   ]
  },
  {
   "cell_type": "code",
   "execution_count": 64,
   "id": "a805b7db",
   "metadata": {},
   "outputs": [
    {
     "data": {
      "text/plain": [
       "(3293, 3)"
      ]
     },
     "execution_count": 64,
     "metadata": {},
     "output_type": "execute_result"
    }
   ],
   "source": [
    "max(df[\"body_word_count\"]), min(df[\"body_word_count\"])"
   ]
  },
  {
   "cell_type": "code",
   "execution_count": 65,
   "id": "e2f93549",
   "metadata": {},
   "outputs": [],
   "source": [
    "df = df[df[\"body_word_count\"] >= 10].reset_index(drop=True)"
   ]
  },
  {
   "cell_type": "code",
   "execution_count": 66,
   "id": "c68c2633",
   "metadata": {},
   "outputs": [
    {
     "data": {
      "text/plain": [
       "(3293, 14)"
      ]
     },
     "execution_count": 66,
     "metadata": {},
     "output_type": "execute_result"
    }
   ],
   "source": [
    "max(df[\"body_word_count\"]), min(df[\"body_word_count\"])"
   ]
  },
  {
   "cell_type": "code",
   "execution_count": 67,
   "id": "6f072278",
   "metadata": {},
   "outputs": [
    {
     "data": {
      "text/html": [
       "<div>\n",
       "<style scoped>\n",
       "    .dataframe tbody tr th:only-of-type {\n",
       "        vertical-align: middle;\n",
       "    }\n",
       "\n",
       "    .dataframe tbody tr th {\n",
       "        vertical-align: top;\n",
       "    }\n",
       "\n",
       "    .dataframe thead th {\n",
       "        text-align: right;\n",
       "    }\n",
       "</style>\n",
       "<table border=\"1\" class=\"dataframe\">\n",
       "  <thead>\n",
       "    <tr style=\"text-align: right;\">\n",
       "      <th></th>\n",
       "      <th>content_id</th>\n",
       "      <th>body_updated</th>\n",
       "    </tr>\n",
       "  </thead>\n",
       "  <tbody>\n",
       "    <tr>\n",
       "      <th>0</th>\n",
       "      <td>1.6272172</td>\n",
       "      <td>Content Category: Holidays, Political campaign...</td>\n",
       "    </tr>\n",
       "    <tr>\n",
       "      <th>1</th>\n",
       "      <td>1.5434542</td>\n",
       "      <td>Content Category: Women's sports, Sports.\\nCli...</td>\n",
       "    </tr>\n",
       "    <tr>\n",
       "      <th>...</th>\n",
       "      <td>...</td>\n",
       "      <td>...</td>\n",
       "    </tr>\n",
       "    <tr>\n",
       "      <th>94</th>\n",
       "      <td>1.5324941</td>\n",
       "      <td>Content Category: Language, Events, Dance.\\nDe...</td>\n",
       "    </tr>\n",
       "    <tr>\n",
       "      <th>95</th>\n",
       "      <td>1.5871770</td>\n",
       "      <td>Content Category: .\\nThe final months of 2020 ...</td>\n",
       "    </tr>\n",
       "  </tbody>\n",
       "</table>\n",
       "<p>96 rows × 2 columns</p>\n",
       "</div>"
      ],
      "text/plain": [
       "   content_id                                       body_updated\n",
       "0   1.6272172  Content Category: Holidays, Political campaign...\n",
       "1   1.5434542  Content Category: Women's sports, Sports.\\nCli...\n",
       "..        ...                                                ...\n",
       "94  1.5324941  Content Category: Language, Events, Dance.\\nDe...\n",
       "95  1.5871770  Content Category: .\\nThe final months of 2020 ...\n",
       "\n",
       "[96 rows x 2 columns]"
      ]
     },
     "execution_count": 67,
     "metadata": {},
     "output_type": "execute_result"
    }
   ],
   "source": [
    "df[['content_id', 'body_updated']]"
   ]
  },
  {
   "cell_type": "code",
   "execution_count": 68,
   "id": "76bd079c",
   "metadata": {},
   "outputs": [],
   "source": [
    "# Save to proper json \n",
    "\n",
    "import json\n",
    "\n",
    "data = df[['content_id', 'body_updated']].to_dict(orient='records')\n",
    "\n",
    "\n",
    "for item in data:\n",
    "    item['body_updated'] = item['body_updated'].replace('\\xa0', ' ').replace('&nbsp;', ' ').strip()\n",
    "\n",
    "with open(json_file + \"_processed.json\", 'w', encoding='utf-8') as f:\n",
    "    json.dump(data, f, ensure_ascii=False, indent=2)"
   ]
  },
  {
   "cell_type": "code",
   "execution_count": 1,
   "id": "6001eef0",
   "metadata": {},
   "outputs": [
    {
     "ename": "ConnectionError",
     "evalue": "('Connection aborted.', RemoteDisconnected('Remote end closed connection without response'))",
     "output_type": "error",
     "traceback": [
      "\u001b[0;31m---------------------------------------------------------------------------\u001b[0m",
      "\u001b[0;31mRemoteDisconnected\u001b[0m                        Traceback (most recent call last)",
      "File \u001b[0;32m~/miniconda3/envs/general/lib/python3.10/site-packages/urllib3/connectionpool.py:787\u001b[0m, in \u001b[0;36mHTTPConnectionPool.urlopen\u001b[0;34m(self, method, url, body, headers, retries, redirect, assert_same_host, timeout, pool_timeout, release_conn, chunked, body_pos, preload_content, decode_content, **response_kw)\u001b[0m\n\u001b[1;32m    786\u001b[0m \u001b[38;5;66;03m# Make the request on the HTTPConnection object\u001b[39;00m\n\u001b[0;32m--> 787\u001b[0m response \u001b[38;5;241m=\u001b[39m \u001b[38;5;28;43mself\u001b[39;49m\u001b[38;5;241;43m.\u001b[39;49m\u001b[43m_make_request\u001b[49m\u001b[43m(\u001b[49m\n\u001b[1;32m    788\u001b[0m \u001b[43m    \u001b[49m\u001b[43mconn\u001b[49m\u001b[43m,\u001b[49m\n\u001b[1;32m    789\u001b[0m \u001b[43m    \u001b[49m\u001b[43mmethod\u001b[49m\u001b[43m,\u001b[49m\n\u001b[1;32m    790\u001b[0m \u001b[43m    \u001b[49m\u001b[43murl\u001b[49m\u001b[43m,\u001b[49m\n\u001b[1;32m    791\u001b[0m \u001b[43m    \u001b[49m\u001b[43mtimeout\u001b[49m\u001b[38;5;241;43m=\u001b[39;49m\u001b[43mtimeout_obj\u001b[49m\u001b[43m,\u001b[49m\n\u001b[1;32m    792\u001b[0m \u001b[43m    \u001b[49m\u001b[43mbody\u001b[49m\u001b[38;5;241;43m=\u001b[39;49m\u001b[43mbody\u001b[49m\u001b[43m,\u001b[49m\n\u001b[1;32m    793\u001b[0m \u001b[43m    \u001b[49m\u001b[43mheaders\u001b[49m\u001b[38;5;241;43m=\u001b[39;49m\u001b[43mheaders\u001b[49m\u001b[43m,\u001b[49m\n\u001b[1;32m    794\u001b[0m \u001b[43m    \u001b[49m\u001b[43mchunked\u001b[49m\u001b[38;5;241;43m=\u001b[39;49m\u001b[43mchunked\u001b[49m\u001b[43m,\u001b[49m\n\u001b[1;32m    795\u001b[0m \u001b[43m    \u001b[49m\u001b[43mretries\u001b[49m\u001b[38;5;241;43m=\u001b[39;49m\u001b[43mretries\u001b[49m\u001b[43m,\u001b[49m\n\u001b[1;32m    796\u001b[0m \u001b[43m    \u001b[49m\u001b[43mresponse_conn\u001b[49m\u001b[38;5;241;43m=\u001b[39;49m\u001b[43mresponse_conn\u001b[49m\u001b[43m,\u001b[49m\n\u001b[1;32m    797\u001b[0m \u001b[43m    \u001b[49m\u001b[43mpreload_content\u001b[49m\u001b[38;5;241;43m=\u001b[39;49m\u001b[43mpreload_content\u001b[49m\u001b[43m,\u001b[49m\n\u001b[1;32m    798\u001b[0m \u001b[43m    \u001b[49m\u001b[43mdecode_content\u001b[49m\u001b[38;5;241;43m=\u001b[39;49m\u001b[43mdecode_content\u001b[49m\u001b[43m,\u001b[49m\n\u001b[1;32m    799\u001b[0m \u001b[43m    \u001b[49m\u001b[38;5;241;43m*\u001b[39;49m\u001b[38;5;241;43m*\u001b[39;49m\u001b[43mresponse_kw\u001b[49m\u001b[43m,\u001b[49m\n\u001b[1;32m    800\u001b[0m \u001b[43m\u001b[49m\u001b[43m)\u001b[49m\n\u001b[1;32m    802\u001b[0m \u001b[38;5;66;03m# Everything went great!\u001b[39;00m\n",
      "File \u001b[0;32m~/miniconda3/envs/general/lib/python3.10/site-packages/urllib3/connectionpool.py:534\u001b[0m, in \u001b[0;36mHTTPConnectionPool._make_request\u001b[0;34m(self, conn, method, url, body, headers, retries, timeout, chunked, response_conn, preload_content, decode_content, enforce_content_length)\u001b[0m\n\u001b[1;32m    533\u001b[0m \u001b[38;5;28;01mtry\u001b[39;00m:\n\u001b[0;32m--> 534\u001b[0m     response \u001b[38;5;241m=\u001b[39m \u001b[43mconn\u001b[49m\u001b[38;5;241;43m.\u001b[39;49m\u001b[43mgetresponse\u001b[49m\u001b[43m(\u001b[49m\u001b[43m)\u001b[49m\n\u001b[1;32m    535\u001b[0m \u001b[38;5;28;01mexcept\u001b[39;00m (BaseSSLError, \u001b[38;5;167;01mOSError\u001b[39;00m) \u001b[38;5;28;01mas\u001b[39;00m e:\n",
      "File \u001b[0;32m~/miniconda3/envs/general/lib/python3.10/site-packages/urllib3/connection.py:565\u001b[0m, in \u001b[0;36mHTTPConnection.getresponse\u001b[0;34m(self)\u001b[0m\n\u001b[1;32m    564\u001b[0m \u001b[38;5;66;03m# Get the response from http.client.HTTPConnection\u001b[39;00m\n\u001b[0;32m--> 565\u001b[0m httplib_response \u001b[38;5;241m=\u001b[39m \u001b[38;5;28;43msuper\u001b[39;49m\u001b[43m(\u001b[49m\u001b[43m)\u001b[49m\u001b[38;5;241;43m.\u001b[39;49m\u001b[43mgetresponse\u001b[49m\u001b[43m(\u001b[49m\u001b[43m)\u001b[49m\n\u001b[1;32m    567\u001b[0m \u001b[38;5;28;01mtry\u001b[39;00m:\n",
      "File \u001b[0;32m~/miniconda3/envs/general/lib/python3.10/http/client.py:1375\u001b[0m, in \u001b[0;36mHTTPConnection.getresponse\u001b[0;34m(self)\u001b[0m\n\u001b[1;32m   1374\u001b[0m \u001b[38;5;28;01mtry\u001b[39;00m:\n\u001b[0;32m-> 1375\u001b[0m     \u001b[43mresponse\u001b[49m\u001b[38;5;241;43m.\u001b[39;49m\u001b[43mbegin\u001b[49m\u001b[43m(\u001b[49m\u001b[43m)\u001b[49m\n\u001b[1;32m   1376\u001b[0m \u001b[38;5;28;01mexcept\u001b[39;00m \u001b[38;5;167;01mConnectionError\u001b[39;00m:\n",
      "File \u001b[0;32m~/miniconda3/envs/general/lib/python3.10/http/client.py:318\u001b[0m, in \u001b[0;36mHTTPResponse.begin\u001b[0;34m(self)\u001b[0m\n\u001b[1;32m    317\u001b[0m \u001b[38;5;28;01mwhile\u001b[39;00m \u001b[38;5;28;01mTrue\u001b[39;00m:\n\u001b[0;32m--> 318\u001b[0m     version, status, reason \u001b[38;5;241m=\u001b[39m \u001b[38;5;28;43mself\u001b[39;49m\u001b[38;5;241;43m.\u001b[39;49m\u001b[43m_read_status\u001b[49m\u001b[43m(\u001b[49m\u001b[43m)\u001b[49m\n\u001b[1;32m    319\u001b[0m     \u001b[38;5;28;01mif\u001b[39;00m status \u001b[38;5;241m!=\u001b[39m CONTINUE:\n",
      "File \u001b[0;32m~/miniconda3/envs/general/lib/python3.10/http/client.py:287\u001b[0m, in \u001b[0;36mHTTPResponse._read_status\u001b[0;34m(self)\u001b[0m\n\u001b[1;32m    284\u001b[0m \u001b[38;5;28;01mif\u001b[39;00m \u001b[38;5;129;01mnot\u001b[39;00m line:\n\u001b[1;32m    285\u001b[0m     \u001b[38;5;66;03m# Presumably, the server closed the connection before\u001b[39;00m\n\u001b[1;32m    286\u001b[0m     \u001b[38;5;66;03m# sending a valid response.\u001b[39;00m\n\u001b[0;32m--> 287\u001b[0m     \u001b[38;5;28;01mraise\u001b[39;00m RemoteDisconnected(\u001b[38;5;124m\"\u001b[39m\u001b[38;5;124mRemote end closed connection without\u001b[39m\u001b[38;5;124m\"\u001b[39m\n\u001b[1;32m    288\u001b[0m                              \u001b[38;5;124m\"\u001b[39m\u001b[38;5;124m response\u001b[39m\u001b[38;5;124m\"\u001b[39m)\n\u001b[1;32m    289\u001b[0m \u001b[38;5;28;01mtry\u001b[39;00m:\n",
      "\u001b[0;31mRemoteDisconnected\u001b[0m: Remote end closed connection without response",
      "\nDuring handling of the above exception, another exception occurred:\n",
      "\u001b[0;31mProtocolError\u001b[0m                             Traceback (most recent call last)",
      "File \u001b[0;32m~/miniconda3/envs/general/lib/python3.10/site-packages/requests/adapters.py:644\u001b[0m, in \u001b[0;36mHTTPAdapter.send\u001b[0;34m(self, request, stream, timeout, verify, cert, proxies)\u001b[0m\n\u001b[1;32m    643\u001b[0m \u001b[38;5;28;01mtry\u001b[39;00m:\n\u001b[0;32m--> 644\u001b[0m     resp \u001b[38;5;241m=\u001b[39m \u001b[43mconn\u001b[49m\u001b[38;5;241;43m.\u001b[39;49m\u001b[43murlopen\u001b[49m\u001b[43m(\u001b[49m\n\u001b[1;32m    645\u001b[0m \u001b[43m        \u001b[49m\u001b[43mmethod\u001b[49m\u001b[38;5;241;43m=\u001b[39;49m\u001b[43mrequest\u001b[49m\u001b[38;5;241;43m.\u001b[39;49m\u001b[43mmethod\u001b[49m\u001b[43m,\u001b[49m\n\u001b[1;32m    646\u001b[0m \u001b[43m        \u001b[49m\u001b[43murl\u001b[49m\u001b[38;5;241;43m=\u001b[39;49m\u001b[43murl\u001b[49m\u001b[43m,\u001b[49m\n\u001b[1;32m    647\u001b[0m \u001b[43m        \u001b[49m\u001b[43mbody\u001b[49m\u001b[38;5;241;43m=\u001b[39;49m\u001b[43mrequest\u001b[49m\u001b[38;5;241;43m.\u001b[39;49m\u001b[43mbody\u001b[49m\u001b[43m,\u001b[49m\n\u001b[1;32m    648\u001b[0m \u001b[43m        \u001b[49m\u001b[43mheaders\u001b[49m\u001b[38;5;241;43m=\u001b[39;49m\u001b[43mrequest\u001b[49m\u001b[38;5;241;43m.\u001b[39;49m\u001b[43mheaders\u001b[49m\u001b[43m,\u001b[49m\n\u001b[1;32m    649\u001b[0m \u001b[43m        \u001b[49m\u001b[43mredirect\u001b[49m\u001b[38;5;241;43m=\u001b[39;49m\u001b[38;5;28;43;01mFalse\u001b[39;49;00m\u001b[43m,\u001b[49m\n\u001b[1;32m    650\u001b[0m \u001b[43m        \u001b[49m\u001b[43massert_same_host\u001b[49m\u001b[38;5;241;43m=\u001b[39;49m\u001b[38;5;28;43;01mFalse\u001b[39;49;00m\u001b[43m,\u001b[49m\n\u001b[1;32m    651\u001b[0m \u001b[43m        \u001b[49m\u001b[43mpreload_content\u001b[49m\u001b[38;5;241;43m=\u001b[39;49m\u001b[38;5;28;43;01mFalse\u001b[39;49;00m\u001b[43m,\u001b[49m\n\u001b[1;32m    652\u001b[0m \u001b[43m        \u001b[49m\u001b[43mdecode_content\u001b[49m\u001b[38;5;241;43m=\u001b[39;49m\u001b[38;5;28;43;01mFalse\u001b[39;49;00m\u001b[43m,\u001b[49m\n\u001b[1;32m    653\u001b[0m \u001b[43m        \u001b[49m\u001b[43mretries\u001b[49m\u001b[38;5;241;43m=\u001b[39;49m\u001b[38;5;28;43mself\u001b[39;49m\u001b[38;5;241;43m.\u001b[39;49m\u001b[43mmax_retries\u001b[49m\u001b[43m,\u001b[49m\n\u001b[1;32m    654\u001b[0m \u001b[43m        \u001b[49m\u001b[43mtimeout\u001b[49m\u001b[38;5;241;43m=\u001b[39;49m\u001b[43mtimeout\u001b[49m\u001b[43m,\u001b[49m\n\u001b[1;32m    655\u001b[0m \u001b[43m        \u001b[49m\u001b[43mchunked\u001b[49m\u001b[38;5;241;43m=\u001b[39;49m\u001b[43mchunked\u001b[49m\u001b[43m,\u001b[49m\n\u001b[1;32m    656\u001b[0m \u001b[43m    \u001b[49m\u001b[43m)\u001b[49m\n\u001b[1;32m    658\u001b[0m \u001b[38;5;28;01mexcept\u001b[39;00m (ProtocolError, \u001b[38;5;167;01mOSError\u001b[39;00m) \u001b[38;5;28;01mas\u001b[39;00m err:\n",
      "File \u001b[0;32m~/miniconda3/envs/general/lib/python3.10/site-packages/urllib3/connectionpool.py:841\u001b[0m, in \u001b[0;36mHTTPConnectionPool.urlopen\u001b[0;34m(self, method, url, body, headers, retries, redirect, assert_same_host, timeout, pool_timeout, release_conn, chunked, body_pos, preload_content, decode_content, **response_kw)\u001b[0m\n\u001b[1;32m    839\u001b[0m     new_e \u001b[38;5;241m=\u001b[39m ProtocolError(\u001b[38;5;124m\"\u001b[39m\u001b[38;5;124mConnection aborted.\u001b[39m\u001b[38;5;124m\"\u001b[39m, new_e)\n\u001b[0;32m--> 841\u001b[0m retries \u001b[38;5;241m=\u001b[39m \u001b[43mretries\u001b[49m\u001b[38;5;241;43m.\u001b[39;49m\u001b[43mincrement\u001b[49m\u001b[43m(\u001b[49m\n\u001b[1;32m    842\u001b[0m \u001b[43m    \u001b[49m\u001b[43mmethod\u001b[49m\u001b[43m,\u001b[49m\u001b[43m \u001b[49m\u001b[43murl\u001b[49m\u001b[43m,\u001b[49m\u001b[43m \u001b[49m\u001b[43merror\u001b[49m\u001b[38;5;241;43m=\u001b[39;49m\u001b[43mnew_e\u001b[49m\u001b[43m,\u001b[49m\u001b[43m \u001b[49m\u001b[43m_pool\u001b[49m\u001b[38;5;241;43m=\u001b[39;49m\u001b[38;5;28;43mself\u001b[39;49m\u001b[43m,\u001b[49m\u001b[43m \u001b[49m\u001b[43m_stacktrace\u001b[49m\u001b[38;5;241;43m=\u001b[39;49m\u001b[43msys\u001b[49m\u001b[38;5;241;43m.\u001b[39;49m\u001b[43mexc_info\u001b[49m\u001b[43m(\u001b[49m\u001b[43m)\u001b[49m\u001b[43m[\u001b[49m\u001b[38;5;241;43m2\u001b[39;49m\u001b[43m]\u001b[49m\n\u001b[1;32m    843\u001b[0m \u001b[43m\u001b[49m\u001b[43m)\u001b[49m\n\u001b[1;32m    844\u001b[0m retries\u001b[38;5;241m.\u001b[39msleep()\n",
      "File \u001b[0;32m~/miniconda3/envs/general/lib/python3.10/site-packages/urllib3/util/retry.py:474\u001b[0m, in \u001b[0;36mRetry.increment\u001b[0;34m(self, method, url, response, error, _pool, _stacktrace)\u001b[0m\n\u001b[1;32m    473\u001b[0m \u001b[38;5;28;01mif\u001b[39;00m read \u001b[38;5;129;01mis\u001b[39;00m \u001b[38;5;28;01mFalse\u001b[39;00m \u001b[38;5;129;01mor\u001b[39;00m method \u001b[38;5;129;01mis\u001b[39;00m \u001b[38;5;28;01mNone\u001b[39;00m \u001b[38;5;129;01mor\u001b[39;00m \u001b[38;5;129;01mnot\u001b[39;00m \u001b[38;5;28mself\u001b[39m\u001b[38;5;241m.\u001b[39m_is_method_retryable(method):\n\u001b[0;32m--> 474\u001b[0m     \u001b[38;5;28;01mraise\u001b[39;00m \u001b[43mreraise\u001b[49m\u001b[43m(\u001b[49m\u001b[38;5;28;43mtype\u001b[39;49m\u001b[43m(\u001b[49m\u001b[43merror\u001b[49m\u001b[43m)\u001b[49m\u001b[43m,\u001b[49m\u001b[43m \u001b[49m\u001b[43merror\u001b[49m\u001b[43m,\u001b[49m\u001b[43m \u001b[49m\u001b[43m_stacktrace\u001b[49m\u001b[43m)\u001b[49m\n\u001b[1;32m    475\u001b[0m \u001b[38;5;28;01melif\u001b[39;00m read \u001b[38;5;129;01mis\u001b[39;00m \u001b[38;5;129;01mnot\u001b[39;00m \u001b[38;5;28;01mNone\u001b[39;00m:\n",
      "File \u001b[0;32m~/miniconda3/envs/general/lib/python3.10/site-packages/urllib3/util/util.py:38\u001b[0m, in \u001b[0;36mreraise\u001b[0;34m(tp, value, tb)\u001b[0m\n\u001b[1;32m     37\u001b[0m \u001b[38;5;28;01mif\u001b[39;00m value\u001b[38;5;241m.\u001b[39m__traceback__ \u001b[38;5;129;01mis\u001b[39;00m \u001b[38;5;129;01mnot\u001b[39;00m tb:\n\u001b[0;32m---> 38\u001b[0m     \u001b[38;5;28;01mraise\u001b[39;00m value\u001b[38;5;241m.\u001b[39mwith_traceback(tb)\n\u001b[1;32m     39\u001b[0m \u001b[38;5;28;01mraise\u001b[39;00m value\n",
      "File \u001b[0;32m~/miniconda3/envs/general/lib/python3.10/site-packages/urllib3/connectionpool.py:787\u001b[0m, in \u001b[0;36mHTTPConnectionPool.urlopen\u001b[0;34m(self, method, url, body, headers, retries, redirect, assert_same_host, timeout, pool_timeout, release_conn, chunked, body_pos, preload_content, decode_content, **response_kw)\u001b[0m\n\u001b[1;32m    786\u001b[0m \u001b[38;5;66;03m# Make the request on the HTTPConnection object\u001b[39;00m\n\u001b[0;32m--> 787\u001b[0m response \u001b[38;5;241m=\u001b[39m \u001b[38;5;28;43mself\u001b[39;49m\u001b[38;5;241;43m.\u001b[39;49m\u001b[43m_make_request\u001b[49m\u001b[43m(\u001b[49m\n\u001b[1;32m    788\u001b[0m \u001b[43m    \u001b[49m\u001b[43mconn\u001b[49m\u001b[43m,\u001b[49m\n\u001b[1;32m    789\u001b[0m \u001b[43m    \u001b[49m\u001b[43mmethod\u001b[49m\u001b[43m,\u001b[49m\n\u001b[1;32m    790\u001b[0m \u001b[43m    \u001b[49m\u001b[43murl\u001b[49m\u001b[43m,\u001b[49m\n\u001b[1;32m    791\u001b[0m \u001b[43m    \u001b[49m\u001b[43mtimeout\u001b[49m\u001b[38;5;241;43m=\u001b[39;49m\u001b[43mtimeout_obj\u001b[49m\u001b[43m,\u001b[49m\n\u001b[1;32m    792\u001b[0m \u001b[43m    \u001b[49m\u001b[43mbody\u001b[49m\u001b[38;5;241;43m=\u001b[39;49m\u001b[43mbody\u001b[49m\u001b[43m,\u001b[49m\n\u001b[1;32m    793\u001b[0m \u001b[43m    \u001b[49m\u001b[43mheaders\u001b[49m\u001b[38;5;241;43m=\u001b[39;49m\u001b[43mheaders\u001b[49m\u001b[43m,\u001b[49m\n\u001b[1;32m    794\u001b[0m \u001b[43m    \u001b[49m\u001b[43mchunked\u001b[49m\u001b[38;5;241;43m=\u001b[39;49m\u001b[43mchunked\u001b[49m\u001b[43m,\u001b[49m\n\u001b[1;32m    795\u001b[0m \u001b[43m    \u001b[49m\u001b[43mretries\u001b[49m\u001b[38;5;241;43m=\u001b[39;49m\u001b[43mretries\u001b[49m\u001b[43m,\u001b[49m\n\u001b[1;32m    796\u001b[0m \u001b[43m    \u001b[49m\u001b[43mresponse_conn\u001b[49m\u001b[38;5;241;43m=\u001b[39;49m\u001b[43mresponse_conn\u001b[49m\u001b[43m,\u001b[49m\n\u001b[1;32m    797\u001b[0m \u001b[43m    \u001b[49m\u001b[43mpreload_content\u001b[49m\u001b[38;5;241;43m=\u001b[39;49m\u001b[43mpreload_content\u001b[49m\u001b[43m,\u001b[49m\n\u001b[1;32m    798\u001b[0m \u001b[43m    \u001b[49m\u001b[43mdecode_content\u001b[49m\u001b[38;5;241;43m=\u001b[39;49m\u001b[43mdecode_content\u001b[49m\u001b[43m,\u001b[49m\n\u001b[1;32m    799\u001b[0m \u001b[43m    \u001b[49m\u001b[38;5;241;43m*\u001b[39;49m\u001b[38;5;241;43m*\u001b[39;49m\u001b[43mresponse_kw\u001b[49m\u001b[43m,\u001b[49m\n\u001b[1;32m    800\u001b[0m \u001b[43m\u001b[49m\u001b[43m)\u001b[49m\n\u001b[1;32m    802\u001b[0m \u001b[38;5;66;03m# Everything went great!\u001b[39;00m\n",
      "File \u001b[0;32m~/miniconda3/envs/general/lib/python3.10/site-packages/urllib3/connectionpool.py:534\u001b[0m, in \u001b[0;36mHTTPConnectionPool._make_request\u001b[0;34m(self, conn, method, url, body, headers, retries, timeout, chunked, response_conn, preload_content, decode_content, enforce_content_length)\u001b[0m\n\u001b[1;32m    533\u001b[0m \u001b[38;5;28;01mtry\u001b[39;00m:\n\u001b[0;32m--> 534\u001b[0m     response \u001b[38;5;241m=\u001b[39m \u001b[43mconn\u001b[49m\u001b[38;5;241;43m.\u001b[39;49m\u001b[43mgetresponse\u001b[49m\u001b[43m(\u001b[49m\u001b[43m)\u001b[49m\n\u001b[1;32m    535\u001b[0m \u001b[38;5;28;01mexcept\u001b[39;00m (BaseSSLError, \u001b[38;5;167;01mOSError\u001b[39;00m) \u001b[38;5;28;01mas\u001b[39;00m e:\n",
      "File \u001b[0;32m~/miniconda3/envs/general/lib/python3.10/site-packages/urllib3/connection.py:565\u001b[0m, in \u001b[0;36mHTTPConnection.getresponse\u001b[0;34m(self)\u001b[0m\n\u001b[1;32m    564\u001b[0m \u001b[38;5;66;03m# Get the response from http.client.HTTPConnection\u001b[39;00m\n\u001b[0;32m--> 565\u001b[0m httplib_response \u001b[38;5;241m=\u001b[39m \u001b[38;5;28;43msuper\u001b[39;49m\u001b[43m(\u001b[49m\u001b[43m)\u001b[49m\u001b[38;5;241;43m.\u001b[39;49m\u001b[43mgetresponse\u001b[49m\u001b[43m(\u001b[49m\u001b[43m)\u001b[49m\n\u001b[1;32m    567\u001b[0m \u001b[38;5;28;01mtry\u001b[39;00m:\n",
      "File \u001b[0;32m~/miniconda3/envs/general/lib/python3.10/http/client.py:1375\u001b[0m, in \u001b[0;36mHTTPConnection.getresponse\u001b[0;34m(self)\u001b[0m\n\u001b[1;32m   1374\u001b[0m \u001b[38;5;28;01mtry\u001b[39;00m:\n\u001b[0;32m-> 1375\u001b[0m     \u001b[43mresponse\u001b[49m\u001b[38;5;241;43m.\u001b[39;49m\u001b[43mbegin\u001b[49m\u001b[43m(\u001b[49m\u001b[43m)\u001b[49m\n\u001b[1;32m   1376\u001b[0m \u001b[38;5;28;01mexcept\u001b[39;00m \u001b[38;5;167;01mConnectionError\u001b[39;00m:\n",
      "File \u001b[0;32m~/miniconda3/envs/general/lib/python3.10/http/client.py:318\u001b[0m, in \u001b[0;36mHTTPResponse.begin\u001b[0;34m(self)\u001b[0m\n\u001b[1;32m    317\u001b[0m \u001b[38;5;28;01mwhile\u001b[39;00m \u001b[38;5;28;01mTrue\u001b[39;00m:\n\u001b[0;32m--> 318\u001b[0m     version, status, reason \u001b[38;5;241m=\u001b[39m \u001b[38;5;28;43mself\u001b[39;49m\u001b[38;5;241;43m.\u001b[39;49m\u001b[43m_read_status\u001b[49m\u001b[43m(\u001b[49m\u001b[43m)\u001b[49m\n\u001b[1;32m    319\u001b[0m     \u001b[38;5;28;01mif\u001b[39;00m status \u001b[38;5;241m!=\u001b[39m CONTINUE:\n",
      "File \u001b[0;32m~/miniconda3/envs/general/lib/python3.10/http/client.py:287\u001b[0m, in \u001b[0;36mHTTPResponse._read_status\u001b[0;34m(self)\u001b[0m\n\u001b[1;32m    284\u001b[0m \u001b[38;5;28;01mif\u001b[39;00m \u001b[38;5;129;01mnot\u001b[39;00m line:\n\u001b[1;32m    285\u001b[0m     \u001b[38;5;66;03m# Presumably, the server closed the connection before\u001b[39;00m\n\u001b[1;32m    286\u001b[0m     \u001b[38;5;66;03m# sending a valid response.\u001b[39;00m\n\u001b[0;32m--> 287\u001b[0m     \u001b[38;5;28;01mraise\u001b[39;00m RemoteDisconnected(\u001b[38;5;124m\"\u001b[39m\u001b[38;5;124mRemote end closed connection without\u001b[39m\u001b[38;5;124m\"\u001b[39m\n\u001b[1;32m    288\u001b[0m                              \u001b[38;5;124m\"\u001b[39m\u001b[38;5;124m response\u001b[39m\u001b[38;5;124m\"\u001b[39m)\n\u001b[1;32m    289\u001b[0m \u001b[38;5;28;01mtry\u001b[39;00m:\n",
      "\u001b[0;31mProtocolError\u001b[0m: ('Connection aborted.', RemoteDisconnected('Remote end closed connection without response'))",
      "\nDuring handling of the above exception, another exception occurred:\n",
      "\u001b[0;31mConnectionError\u001b[0m                           Traceback (most recent call last)",
      "Cell \u001b[0;32mIn[1], line 3\u001b[0m\n\u001b[1;32m      1\u001b[0m \u001b[38;5;28;01mimport\u001b[39;00m\u001b[38;5;250m \u001b[39m\u001b[38;5;21;01mrequests\u001b[39;00m\n\u001b[0;32m----> 3\u001b[0m response \u001b[38;5;241m=\u001b[39m \u001b[43mrequests\u001b[49m\u001b[38;5;241;43m.\u001b[39;49m\u001b[43mget\u001b[49m\u001b[43m(\u001b[49m\u001b[38;5;124;43m\"\u001b[39;49m\u001b[38;5;124;43mhttp://localhost:5678\u001b[39;49m\u001b[38;5;124;43m\"\u001b[39;49m\u001b[43m)\u001b[49m\n\u001b[1;32m      4\u001b[0m \u001b[38;5;28mprint\u001b[39m(response\u001b[38;5;241m.\u001b[39mstatus_code)\n",
      "File \u001b[0;32m~/miniconda3/envs/general/lib/python3.10/site-packages/requests/api.py:73\u001b[0m, in \u001b[0;36mget\u001b[0;34m(url, params, **kwargs)\u001b[0m\n\u001b[1;32m     62\u001b[0m \u001b[38;5;28;01mdef\u001b[39;00m\u001b[38;5;250m \u001b[39m\u001b[38;5;21mget\u001b[39m(url, params\u001b[38;5;241m=\u001b[39m\u001b[38;5;28;01mNone\u001b[39;00m, \u001b[38;5;241m*\u001b[39m\u001b[38;5;241m*\u001b[39mkwargs):\n\u001b[1;32m     63\u001b[0m \u001b[38;5;250m    \u001b[39m\u001b[38;5;124mr\u001b[39m\u001b[38;5;124;03m\"\"\"Sends a GET request.\u001b[39;00m\n\u001b[1;32m     64\u001b[0m \n\u001b[1;32m     65\u001b[0m \u001b[38;5;124;03m    :param url: URL for the new :class:`Request` object.\u001b[39;00m\n\u001b[0;32m   (...)\u001b[0m\n\u001b[1;32m     70\u001b[0m \u001b[38;5;124;03m    :rtype: requests.Response\u001b[39;00m\n\u001b[1;32m     71\u001b[0m \u001b[38;5;124;03m    \"\"\"\u001b[39;00m\n\u001b[0;32m---> 73\u001b[0m     \u001b[38;5;28;01mreturn\u001b[39;00m \u001b[43mrequest\u001b[49m\u001b[43m(\u001b[49m\u001b[38;5;124;43m\"\u001b[39;49m\u001b[38;5;124;43mget\u001b[39;49m\u001b[38;5;124;43m\"\u001b[39;49m\u001b[43m,\u001b[49m\u001b[43m \u001b[49m\u001b[43murl\u001b[49m\u001b[43m,\u001b[49m\u001b[43m \u001b[49m\u001b[43mparams\u001b[49m\u001b[38;5;241;43m=\u001b[39;49m\u001b[43mparams\u001b[49m\u001b[43m,\u001b[49m\u001b[43m \u001b[49m\u001b[38;5;241;43m*\u001b[39;49m\u001b[38;5;241;43m*\u001b[39;49m\u001b[43mkwargs\u001b[49m\u001b[43m)\u001b[49m\n",
      "File \u001b[0;32m~/miniconda3/envs/general/lib/python3.10/site-packages/requests/api.py:59\u001b[0m, in \u001b[0;36mrequest\u001b[0;34m(method, url, **kwargs)\u001b[0m\n\u001b[1;32m     55\u001b[0m \u001b[38;5;66;03m# By using the 'with' statement we are sure the session is closed, thus we\u001b[39;00m\n\u001b[1;32m     56\u001b[0m \u001b[38;5;66;03m# avoid leaving sockets open which can trigger a ResourceWarning in some\u001b[39;00m\n\u001b[1;32m     57\u001b[0m \u001b[38;5;66;03m# cases, and look like a memory leak in others.\u001b[39;00m\n\u001b[1;32m     58\u001b[0m \u001b[38;5;28;01mwith\u001b[39;00m sessions\u001b[38;5;241m.\u001b[39mSession() \u001b[38;5;28;01mas\u001b[39;00m session:\n\u001b[0;32m---> 59\u001b[0m     \u001b[38;5;28;01mreturn\u001b[39;00m \u001b[43msession\u001b[49m\u001b[38;5;241;43m.\u001b[39;49m\u001b[43mrequest\u001b[49m\u001b[43m(\u001b[49m\u001b[43mmethod\u001b[49m\u001b[38;5;241;43m=\u001b[39;49m\u001b[43mmethod\u001b[49m\u001b[43m,\u001b[49m\u001b[43m \u001b[49m\u001b[43murl\u001b[49m\u001b[38;5;241;43m=\u001b[39;49m\u001b[43murl\u001b[49m\u001b[43m,\u001b[49m\u001b[43m \u001b[49m\u001b[38;5;241;43m*\u001b[39;49m\u001b[38;5;241;43m*\u001b[39;49m\u001b[43mkwargs\u001b[49m\u001b[43m)\u001b[49m\n",
      "File \u001b[0;32m~/miniconda3/envs/general/lib/python3.10/site-packages/requests/sessions.py:589\u001b[0m, in \u001b[0;36mSession.request\u001b[0;34m(self, method, url, params, data, headers, cookies, files, auth, timeout, allow_redirects, proxies, hooks, stream, verify, cert, json)\u001b[0m\n\u001b[1;32m    584\u001b[0m send_kwargs \u001b[38;5;241m=\u001b[39m {\n\u001b[1;32m    585\u001b[0m     \u001b[38;5;124m\"\u001b[39m\u001b[38;5;124mtimeout\u001b[39m\u001b[38;5;124m\"\u001b[39m: timeout,\n\u001b[1;32m    586\u001b[0m     \u001b[38;5;124m\"\u001b[39m\u001b[38;5;124mallow_redirects\u001b[39m\u001b[38;5;124m\"\u001b[39m: allow_redirects,\n\u001b[1;32m    587\u001b[0m }\n\u001b[1;32m    588\u001b[0m send_kwargs\u001b[38;5;241m.\u001b[39mupdate(settings)\n\u001b[0;32m--> 589\u001b[0m resp \u001b[38;5;241m=\u001b[39m \u001b[38;5;28;43mself\u001b[39;49m\u001b[38;5;241;43m.\u001b[39;49m\u001b[43msend\u001b[49m\u001b[43m(\u001b[49m\u001b[43mprep\u001b[49m\u001b[43m,\u001b[49m\u001b[43m \u001b[49m\u001b[38;5;241;43m*\u001b[39;49m\u001b[38;5;241;43m*\u001b[39;49m\u001b[43msend_kwargs\u001b[49m\u001b[43m)\u001b[49m\n\u001b[1;32m    591\u001b[0m \u001b[38;5;28;01mreturn\u001b[39;00m resp\n",
      "File \u001b[0;32m~/miniconda3/envs/general/lib/python3.10/site-packages/requests/sessions.py:703\u001b[0m, in \u001b[0;36mSession.send\u001b[0;34m(self, request, **kwargs)\u001b[0m\n\u001b[1;32m    700\u001b[0m start \u001b[38;5;241m=\u001b[39m preferred_clock()\n\u001b[1;32m    702\u001b[0m \u001b[38;5;66;03m# Send the request\u001b[39;00m\n\u001b[0;32m--> 703\u001b[0m r \u001b[38;5;241m=\u001b[39m \u001b[43madapter\u001b[49m\u001b[38;5;241;43m.\u001b[39;49m\u001b[43msend\u001b[49m\u001b[43m(\u001b[49m\u001b[43mrequest\u001b[49m\u001b[43m,\u001b[49m\u001b[43m \u001b[49m\u001b[38;5;241;43m*\u001b[39;49m\u001b[38;5;241;43m*\u001b[39;49m\u001b[43mkwargs\u001b[49m\u001b[43m)\u001b[49m\n\u001b[1;32m    705\u001b[0m \u001b[38;5;66;03m# Total elapsed time of the request (approximately)\u001b[39;00m\n\u001b[1;32m    706\u001b[0m elapsed \u001b[38;5;241m=\u001b[39m preferred_clock() \u001b[38;5;241m-\u001b[39m start\n",
      "File \u001b[0;32m~/miniconda3/envs/general/lib/python3.10/site-packages/requests/adapters.py:659\u001b[0m, in \u001b[0;36mHTTPAdapter.send\u001b[0;34m(self, request, stream, timeout, verify, cert, proxies)\u001b[0m\n\u001b[1;32m    644\u001b[0m     resp \u001b[38;5;241m=\u001b[39m conn\u001b[38;5;241m.\u001b[39murlopen(\n\u001b[1;32m    645\u001b[0m         method\u001b[38;5;241m=\u001b[39mrequest\u001b[38;5;241m.\u001b[39mmethod,\n\u001b[1;32m    646\u001b[0m         url\u001b[38;5;241m=\u001b[39murl,\n\u001b[0;32m   (...)\u001b[0m\n\u001b[1;32m    655\u001b[0m         chunked\u001b[38;5;241m=\u001b[39mchunked,\n\u001b[1;32m    656\u001b[0m     )\n\u001b[1;32m    658\u001b[0m \u001b[38;5;28;01mexcept\u001b[39;00m (ProtocolError, \u001b[38;5;167;01mOSError\u001b[39;00m) \u001b[38;5;28;01mas\u001b[39;00m err:\n\u001b[0;32m--> 659\u001b[0m     \u001b[38;5;28;01mraise\u001b[39;00m \u001b[38;5;167;01mConnectionError\u001b[39;00m(err, request\u001b[38;5;241m=\u001b[39mrequest)\n\u001b[1;32m    661\u001b[0m \u001b[38;5;28;01mexcept\u001b[39;00m MaxRetryError \u001b[38;5;28;01mas\u001b[39;00m e:\n\u001b[1;32m    662\u001b[0m     \u001b[38;5;28;01mif\u001b[39;00m \u001b[38;5;28misinstance\u001b[39m(e\u001b[38;5;241m.\u001b[39mreason, ConnectTimeoutError):\n\u001b[1;32m    663\u001b[0m         \u001b[38;5;66;03m# TODO: Remove this in 3.0.0: see #2811\u001b[39;00m\n",
      "\u001b[0;31mConnectionError\u001b[0m: ('Connection aborted.', RemoteDisconnected('Remote end closed connection without response'))"
     ]
    }
   ],
   "source": [
    "import requests\n",
    "\n",
    "response = requests.get(\"http://localhost:5678\")\n",
    "print(response.status_code)"
   ]
  },
  {
   "cell_type": "code",
   "execution_count": null,
   "id": "5dcd54ee",
   "metadata": {},
   "outputs": [],
   "source": []
  },
  {
   "cell_type": "code",
   "execution_count": null,
   "id": "1a3f7553",
   "metadata": {},
   "outputs": [],
   "source": []
  }
 ],
 "metadata": {
  "kernelspec": {
   "display_name": "general",
   "language": "python",
   "name": "python3"
  },
  "language_info": {
   "codemirror_mode": {
    "name": "ipython",
    "version": 3
   },
   "file_extension": ".py",
   "mimetype": "text/x-python",
   "name": "python",
   "nbconvert_exporter": "python",
   "pygments_lexer": "ipython3",
   "version": "3.10.18"
  }
 },
 "nbformat": 4,
 "nbformat_minor": 5
}
